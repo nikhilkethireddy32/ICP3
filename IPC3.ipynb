{
  "metadata": {
    "kernelspec": {
      "name": "python",
      "display_name": "Python (Pyodide)",
      "language": "python"
    },
    "language_info": {
      "codemirror_mode": {
        "name": "python",
        "version": 3
      },
      "file_extension": ".py",
      "mimetype": "text/x-python",
      "name": "python",
      "nbconvert_exporter": "python",
      "pygments_lexer": "ipython3",
      "version": "3.8"
    }
  },
  "nbformat_minor": 4,
  "nbformat": 4,
  "cells": [
    {
      "cell_type": "code",
      "source": "#create a class employee and then do the following\nclass Employee:\n     empcount=0\n     salsum=0\n     def __init__(self,name,family,salary,department):\n         self.name=name\n         self.family=family\n         self.salary=salary\n         self.department=department\n         Employee.empcount+=1\n         Employee.salsum+=self.salary\n     def avg(self):\n        return Employee.salsum/Employee.empcount\n     def displaycount(self):\n        print(\"Total number of employess %d\" % Employee.empcount)\n     def displayemployee(self):\n        print(\"Name:\",self.name,\"family:\",self.family,\"salary:\",self.salary,\"department\",self.department)\n\nemp1=Employee(\"Nikhil\",\"Kethireddy\",5000,\"Velosio\")\nemp2=Employee(\"Pavan\",\"Kommidi\",5600,\"Google\")\nemp3=Employee(\"Pranay\",\"Chittireddy\",6000,\"IBM\")\nprint(\"average:\",emp1.avg())\n\nclass fulltimeemployee(Employee):\n    def __init__(self,name,family,salary,department,c_name):\n        super().__init__(name,family,salary,department)\n        self.c_name=c_name\n    def setcompany(self,c_name):\n        self.c_name=c_name\n    def getcompany(self):\n        if self.c_name not in self.c_name:\n            return \"\"\n        return self.c_name\nnik=fulltimeemployee(\"Rahul\",\"Kandakatala\",4000,\"development\",\"TCS\")\nnik.setcompany(\"HP\")\nnik.getcompany(),nik.displayemployee(),emp1.displaycount()\n",
      "metadata": {
        "trusted": true
      },
      "outputs": [
        {
          "name": "stdout",
          "text": "average: 5533.333333333333\nName: Rahul family: Kandakatala salary: 4000 department development\nTotal number of employess 4\n",
          "output_type": "stream"
        },
        {
          "execution_count": 1,
          "output_type": "execute_result",
          "data": {
            "text/plain": "('HP', None, None)"
          },
          "metadata": {}
        }
      ],
      "execution_count": 1
    },
    {
      "cell_type": "code",
      "source": "#using numpy create random vector of size 20 having only float in the range 1-20\n\nimport numpy as np\nvector=np.arange(1,21,dtype=float)\nprint(vector)\nvector=vector.reshape(4,5)\nprint(vector)\nvector=np.where(np.isin(vector,vector.max(axis=1)),0,vector)\nvector",
      "metadata": {
        "trusted": true
      },
      "outputs": [
        {
          "name": "stdout",
          "text": "[ 1.  2.  3.  4.  5.  6.  7.  8.  9. 10. 11. 12. 13. 14. 15. 16. 17. 18.\n 19. 20.]\n[[ 1.  2.  3.  4.  5.]\n [ 6.  7.  8.  9. 10.]\n [11. 12. 13. 14. 15.]\n [16. 17. 18. 19. 20.]]\n",
          "output_type": "stream"
        },
        {
          "execution_count": 3,
          "output_type": "execute_result",
          "data": {
            "text/plain": "array([[ 1.,  2.,  3.,  4.,  0.],\n       [ 6.,  7.,  8.,  9.,  0.],\n       [11., 12., 13., 14.,  0.],\n       [16., 17., 18., 19.,  0.]])"
          },
          "metadata": {}
        }
      ],
      "execution_count": 3
    },
    {
      "cell_type": "code",
      "source": "",
      "metadata": {
        "trusted": true
      },
      "outputs": [],
      "execution_count": null
    }
  ]
}